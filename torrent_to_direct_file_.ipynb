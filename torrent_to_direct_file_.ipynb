{
  "nbformat": 4,
  "nbformat_minor": 0,
  "metadata": {
    "colab": {
      "provenance": [],
      "authorship_tag": "ABX9TyMS/IuzlwC1dfPtCWMWCkdy",
      "include_colab_link": true
    },
    "kernelspec": {
      "name": "python3",
      "display_name": "Python 3"
    },
    "language_info": {
      "name": "python"
    }
  },
  "cells": [
    {
      "cell_type": "markdown",
      "metadata": {
        "id": "view-in-github",
        "colab_type": "text"
      },
      "source": [
        "<a href=\"https://colab.research.google.com/github/Sai7093/torrent-to-directfile/blob/main/torrent_to_direct_file_.ipynb\" target=\"_parent\"><img src=\"https://colab.research.google.com/assets/colab-badge.svg\" alt=\"Open In Colab\"/></a>"
      ]
    },
    {
      "cell_type": "code",
      "execution_count": 2,
      "metadata": {
        "colab": {
          "base_uri": "https://localhost:8080/"
        },
        "id": "lTTaSipYq7o0",
        "outputId": "5f0f1032-3970-4f1d-b79c-25ff5feaa296"
      },
      "outputs": [
        {
          "output_type": "stream",
          "name": "stdout",
          "text": [
            "Reading package lists... Done\n",
            "Building dependency tree       \n",
            "Reading state information... Done\n",
            "The following additional packages will be installed:\n",
            "  libtorrent-rasterbar9\n",
            "Suggested packages:\n",
            "  libtorrent-rasterbar-dbg\n",
            "The following NEW packages will be installed:\n",
            "  libtorrent-rasterbar9 python3-libtorrent\n",
            "0 upgraded, 2 newly installed, 0 to remove and 22 not upgraded.\n",
            "Need to get 1,704 kB of archives.\n",
            "After this operation, 6,479 kB of additional disk space will be used.\n",
            "Get:1 http://archive.ubuntu.com/ubuntu focal/universe amd64 libtorrent-rasterbar9 amd64 1.1.13-1.1build2 [1,368 kB]\n",
            "Get:2 http://archive.ubuntu.com/ubuntu focal/universe amd64 python3-libtorrent amd64 1.1.13-1.1build2 [336 kB]\n",
            "Fetched 1,704 kB in 1s (1,767 kB/s)\n",
            "Selecting previously unselected package libtorrent-rasterbar9.\n",
            "(Reading database ... 128215 files and directories currently installed.)\n",
            "Preparing to unpack .../libtorrent-rasterbar9_1.1.13-1.1build2_amd64.deb ...\n",
            "Unpacking libtorrent-rasterbar9 (1.1.13-1.1build2) ...\n",
            "Selecting previously unselected package python3-libtorrent.\n",
            "Preparing to unpack .../python3-libtorrent_1.1.13-1.1build2_amd64.deb ...\n",
            "Unpacking python3-libtorrent (1.1.13-1.1build2) ...\n",
            "Setting up libtorrent-rasterbar9 (1.1.13-1.1build2) ...\n",
            "Setting up python3-libtorrent (1.1.13-1.1build2) ...\n",
            "Processing triggers for libc-bin (2.31-0ubuntu9.9) ...\n"
          ]
        }
      ],
      "source": [
        "!apt-get install -y python3-libtorrent\n"
      ]
    },
    {
      "cell_type": "code",
      "source": [
        "import libtorrent as lt\n",
        "from google.colab import files\n",
        "import time\n"
      ],
      "metadata": {
        "id": "KJPa2YjlrB8W"
      },
      "execution_count": 3,
      "outputs": []
    },
    {
      "cell_type": "code",
      "source": [
        "def download_torrent(url):\n",
        "    ses = lt.session()\n",
        "    params = {\n",
        "        'save_path': '/content/',\n",
        "        'storage_mode': lt.storage_mode_t(2),\n",
        "        'paused': False,\n",
        "        'auto_managed': True,\n",
        "        'duplicate_is_error': True\n",
        "    }\n",
        "    handle = lt.add_magnet_uri(ses, url, params)\n",
        "    print('Downloading torrent...')\n",
        "    while (not handle.has_metadata()):\n",
        "        time.sleep(1)\n",
        "    info = handle.get_torrent_info()\n",
        "    print('Torrent downloaded:', info.name())\n",
        "    files.download('/content/' + info.name())\n"
      ],
      "metadata": {
        "id": "kpjFb2kPrH71"
      },
      "execution_count": 4,
      "outputs": []
    },
    {
      "cell_type": "code",
      "source": [
        "download_torrent('magnet:?xt=urn:btih:978b0dc78c65a66043304766ea5b0e8fba460bce&dn=www.1TamilMV.wtf%20-%20Butta%20Bomma%20(2023)%20Telugu%20HQ%20HDRip%20-%20250MB%20-%20x264%20-%20AAC%20-%20ESub.mkv&tr=udp%3a%2f%2ftracker.openbittorrent.com%3a80%2fannounce&tr=udp%3a%2f%2f9.rarbg.me%3a2950%2fannounce&tr=udp%3a%2f%2f9.rarbg.to%3a2820%2fannounce&tr=udp%3a%2f%2ftracker.opentrackr.org%3a1337%2fannounce&tr=udp%3a%2f%2ftracker.tiny-vps.com%3a6969%2fannounce&tr=udp%3a%2f%2fopen.stealth.si%3a80%2fannounce&tr=http%3a%2f%2ft.nyaatracker.com%3a80%2fannounce&tr=udp%3a%2f%2fmovies.zsw.ca%3a6969%2fannounce&tr=udp%3a%2f%2fipv4.tracker.harry.lu%3a80%2fannounce&tr=udp%3a%2f%2ffe.dealclub.de%3a6969%2fannounce&tr=udp%3a%2f%2fexplodie.org%3a6969%2fannounce&tr=udp%3a%2f%2fexodus.desync.com%3a6969%2fannounce&tr=udp%3a%2f%2fbt2.archive.org%3a6969%2fannounce&tr=udp%3a%2f%2fbt1.archive.org%3a6969%2fannounce&tr=udp%3a%2f%2fvibe.sleepyinternetfun.xyz%3a1738%2fannounce&tr=udp%3a%2f%2ftsundere.pw%3a6969%2fannounce&tr=udp%3a%2f%2ftracker2.dler.org%3a80%2fannounce&tr=wss%3a%2f%2ftracker.btorrent.xyz')\n"
      ],
      "metadata": {
        "colab": {
          "base_uri": "https://localhost:8080/",
          "height": 52
        },
        "id": "YFELMg1CrQB-",
        "outputId": "08e17ce0-c546-47c6-b35a-6b13e1a7d19a"
      },
      "execution_count": 6,
      "outputs": [
        {
          "output_type": "stream",
          "name": "stdout",
          "text": [
            "Downloading torrent...\n",
            "Torrent downloaded: www.1TamilMV.wtf - Butta Bomma (2023) Telugu HQ HDRip - 250MB - x264 - AAC - ESub.mkv\n"
          ]
        },
        {
          "output_type": "display_data",
          "data": {
            "text/plain": [
              "<IPython.core.display.Javascript object>"
            ],
            "application/javascript": [
              "\n",
              "    async function download(id, filename, size) {\n",
              "      if (!google.colab.kernel.accessAllowed) {\n",
              "        return;\n",
              "      }\n",
              "      const div = document.createElement('div');\n",
              "      const label = document.createElement('label');\n",
              "      label.textContent = `Downloading \"${filename}\": `;\n",
              "      div.appendChild(label);\n",
              "      const progress = document.createElement('progress');\n",
              "      progress.max = size;\n",
              "      div.appendChild(progress);\n",
              "      document.body.appendChild(div);\n",
              "\n",
              "      const buffers = [];\n",
              "      let downloaded = 0;\n",
              "\n",
              "      const channel = await google.colab.kernel.comms.open(id);\n",
              "      // Send a message to notify the kernel that we're ready.\n",
              "      channel.send({})\n",
              "\n",
              "      for await (const message of channel.messages) {\n",
              "        // Send a message to notify the kernel that we're ready.\n",
              "        channel.send({})\n",
              "        if (message.buffers) {\n",
              "          for (const buffer of message.buffers) {\n",
              "            buffers.push(buffer);\n",
              "            downloaded += buffer.byteLength;\n",
              "            progress.value = downloaded;\n",
              "          }\n",
              "        }\n",
              "      }\n",
              "      const blob = new Blob(buffers, {type: 'application/binary'});\n",
              "      const a = document.createElement('a');\n",
              "      a.href = window.URL.createObjectURL(blob);\n",
              "      a.download = filename;\n",
              "      div.appendChild(a);\n",
              "      a.click();\n",
              "      div.remove();\n",
              "    }\n",
              "  "
            ]
          },
          "metadata": {}
        },
        {
          "output_type": "display_data",
          "data": {
            "text/plain": [
              "<IPython.core.display.Javascript object>"
            ],
            "application/javascript": [
              "download(\"download_79426a50-a7b8-4a1b-9a11-05b18d8ce2a2\", \"www.1TamilMV.wtf - Butta Bomma (2023) Telugu HQ HDRip - 250MB - x264 - AAC - ESub.mkv\", 259522560)"
            ]
          },
          "metadata": {}
        }
      ]
    }
  ]
}